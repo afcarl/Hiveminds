{
 "cells": [
  {
   "cell_type": "code",
   "execution_count": 1,
   "metadata": {
    "collapsed": true
   },
   "outputs": [],
   "source": [
    "import pandas as pd\n",
    "import requests\n",
    "import numpy as np\n",
    "from tqdm import tqdm\n",
    "import matplotlib.pyplot as plt"
   ]
  },
  {
   "cell_type": "code",
   "execution_count": 2,
   "metadata": {
    "collapsed": false
   },
   "outputs": [
    {
     "name": "stdout",
     "output_type": "stream",
     "text": [
      "25676\n",
      "19774\n",
      "   index                                    name           subCategory  \\\n",
      "0      0                     IJburg volgens mij.  Other Great Outdoors   \n",
      "1      1                              Diemerpark                  Park   \n",
      "2      2                                  IJmeer  Other Great Outdoors   \n",
      "3      3  Mijn balkon met stoel uit Burkina Faso          Neighborhood   \n",
      "4      4                          Diemerparklaan  Other Great Outdoors   \n",
      "\n",
      "                                             reviews   location  \n",
      "0  http://tour-pedia.org/api/getReviewsByPlaceId?...  Amsterdam  \n",
      "1  http://tour-pedia.org/api/getReviewsByPlaceId?...  Amsterdam  \n",
      "2  http://tour-pedia.org/api/getReviewsByPlaceId?...  Amsterdam  \n",
      "3  http://tour-pedia.org/api/getReviewsByPlaceId?...  Amsterdam  \n",
      "4  http://tour-pedia.org/api/getReviewsByPlaceId?...  Amsterdam  \n"
     ]
    }
   ],
   "source": [
    "# Working on the csv datasets\n",
    "am_data = pd.read_csv(\"amsterdam-attraction.csv\")\n",
    "paris_data = pd.read_csv(\"paris-attraction.csv\")\n",
    "tuscany_data = pd.read_csv(\"tuscany-attraction.csv\")\n",
    "\n",
    "# Concatenate the frames\n",
    "frames = [am_data, paris_data, tuscany_data]\n",
    "data = pd.concat(frames)\n",
    "print(data.shape[0])\n",
    "\n",
    "# Removing unwanted columns\n",
    "columns = ['name', 'subCategory', 'reviews','location']\n",
    "data = data[columns]\n",
    "data = data.reset_index()\n",
    "data = data[pd.notnull(data['reviews'])]\n",
    "\n",
    "print(data.shape[0])\n",
    "print(data.head())"
   ]
  },
  {
   "cell_type": "code",
   "execution_count": 3,
   "metadata": {
    "collapsed": false
   },
   "outputs": [
    {
     "ename": "ConnectionError",
     "evalue": "HTTPSConnectionPool(host='www.tripadvisor.com', port=443): Max retries exceeded with url: /TravelersChoice-Attractions (Caused by NewConnectionError('<requests.packages.urllib3.connection.VerifiedHTTPSConnection object at 0x11a62fcc0>: Failed to establish a new connection: [Errno 60] Operation timed out',))",
     "output_type": "error",
     "traceback": [
      "\u001b[0;31m---------------------------------------------------------------------------\u001b[0m",
      "\u001b[0;31mTimeoutError\u001b[0m                              Traceback (most recent call last)",
      "\u001b[0;32m/Users/navneetmkumar/anaconda/lib/python3.5/site-packages/requests/packages/urllib3/connection.py\u001b[0m in \u001b[0;36m_new_conn\u001b[0;34m(self)\u001b[0m\n\u001b[1;32m    140\u001b[0m             conn = connection.create_connection(\n\u001b[0;32m--> 141\u001b[0;31m                 (self.host, self.port), self.timeout, **extra_kw)\n\u001b[0m\u001b[1;32m    142\u001b[0m \u001b[0;34m\u001b[0m\u001b[0m\n",
      "\u001b[0;32m/Users/navneetmkumar/anaconda/lib/python3.5/site-packages/requests/packages/urllib3/util/connection.py\u001b[0m in \u001b[0;36mcreate_connection\u001b[0;34m(address, timeout, source_address, socket_options)\u001b[0m\n\u001b[1;32m     82\u001b[0m     \u001b[0;32mif\u001b[0m \u001b[0merr\u001b[0m \u001b[0;32mis\u001b[0m \u001b[0;32mnot\u001b[0m \u001b[0;32mNone\u001b[0m\u001b[0;34m:\u001b[0m\u001b[0;34m\u001b[0m\u001b[0m\n\u001b[0;32m---> 83\u001b[0;31m         \u001b[0;32mraise\u001b[0m \u001b[0merr\u001b[0m\u001b[0;34m\u001b[0m\u001b[0m\n\u001b[0m\u001b[1;32m     84\u001b[0m \u001b[0;34m\u001b[0m\u001b[0m\n",
      "\u001b[0;32m/Users/navneetmkumar/anaconda/lib/python3.5/site-packages/requests/packages/urllib3/util/connection.py\u001b[0m in \u001b[0;36mcreate_connection\u001b[0;34m(address, timeout, source_address, socket_options)\u001b[0m\n\u001b[1;32m     72\u001b[0m                 \u001b[0msock\u001b[0m\u001b[0;34m.\u001b[0m\u001b[0mbind\u001b[0m\u001b[0;34m(\u001b[0m\u001b[0msource_address\u001b[0m\u001b[0;34m)\u001b[0m\u001b[0;34m\u001b[0m\u001b[0m\n\u001b[0;32m---> 73\u001b[0;31m             \u001b[0msock\u001b[0m\u001b[0;34m.\u001b[0m\u001b[0mconnect\u001b[0m\u001b[0;34m(\u001b[0m\u001b[0msa\u001b[0m\u001b[0;34m)\u001b[0m\u001b[0;34m\u001b[0m\u001b[0m\n\u001b[0m\u001b[1;32m     74\u001b[0m             \u001b[0;32mreturn\u001b[0m \u001b[0msock\u001b[0m\u001b[0;34m\u001b[0m\u001b[0m\n",
      "\u001b[0;31mTimeoutError\u001b[0m: [Errno 60] Operation timed out",
      "\nDuring handling of the above exception, another exception occurred:\n",
      "\u001b[0;31mNewConnectionError\u001b[0m                        Traceback (most recent call last)",
      "\u001b[0;32m/Users/navneetmkumar/anaconda/lib/python3.5/site-packages/requests/packages/urllib3/connectionpool.py\u001b[0m in \u001b[0;36murlopen\u001b[0;34m(self, method, url, body, headers, retries, redirect, assert_same_host, timeout, pool_timeout, release_conn, chunked, body_pos, **response_kw)\u001b[0m\n\u001b[1;32m    599\u001b[0m                                                   \u001b[0mbody\u001b[0m\u001b[0;34m=\u001b[0m\u001b[0mbody\u001b[0m\u001b[0;34m,\u001b[0m \u001b[0mheaders\u001b[0m\u001b[0;34m=\u001b[0m\u001b[0mheaders\u001b[0m\u001b[0;34m,\u001b[0m\u001b[0;34m\u001b[0m\u001b[0m\n\u001b[0;32m--> 600\u001b[0;31m                                                   chunked=chunked)\n\u001b[0m\u001b[1;32m    601\u001b[0m \u001b[0;34m\u001b[0m\u001b[0m\n",
      "\u001b[0;32m/Users/navneetmkumar/anaconda/lib/python3.5/site-packages/requests/packages/urllib3/connectionpool.py\u001b[0m in \u001b[0;36m_make_request\u001b[0;34m(self, conn, method, url, timeout, chunked, **httplib_request_kw)\u001b[0m\n\u001b[1;32m    344\u001b[0m         \u001b[0;32mtry\u001b[0m\u001b[0;34m:\u001b[0m\u001b[0;34m\u001b[0m\u001b[0m\n\u001b[0;32m--> 345\u001b[0;31m             \u001b[0mself\u001b[0m\u001b[0;34m.\u001b[0m\u001b[0m_validate_conn\u001b[0m\u001b[0;34m(\u001b[0m\u001b[0mconn\u001b[0m\u001b[0;34m)\u001b[0m\u001b[0;34m\u001b[0m\u001b[0m\n\u001b[0m\u001b[1;32m    346\u001b[0m         \u001b[0;32mexcept\u001b[0m \u001b[0;34m(\u001b[0m\u001b[0mSocketTimeout\u001b[0m\u001b[0;34m,\u001b[0m \u001b[0mBaseSSLError\u001b[0m\u001b[0;34m)\u001b[0m \u001b[0;32mas\u001b[0m \u001b[0me\u001b[0m\u001b[0;34m:\u001b[0m\u001b[0;34m\u001b[0m\u001b[0m\n",
      "\u001b[0;32m/Users/navneetmkumar/anaconda/lib/python3.5/site-packages/requests/packages/urllib3/connectionpool.py\u001b[0m in \u001b[0;36m_validate_conn\u001b[0;34m(self, conn)\u001b[0m\n\u001b[1;32m    843\u001b[0m         \u001b[0;32mif\u001b[0m \u001b[0;32mnot\u001b[0m \u001b[0mgetattr\u001b[0m\u001b[0;34m(\u001b[0m\u001b[0mconn\u001b[0m\u001b[0;34m,\u001b[0m \u001b[0;34m'sock'\u001b[0m\u001b[0;34m,\u001b[0m \u001b[0;32mNone\u001b[0m\u001b[0;34m)\u001b[0m\u001b[0;34m:\u001b[0m  \u001b[0;31m# AppEngine might not have  `.sock`\u001b[0m\u001b[0;34m\u001b[0m\u001b[0m\n\u001b[0;32m--> 844\u001b[0;31m             \u001b[0mconn\u001b[0m\u001b[0;34m.\u001b[0m\u001b[0mconnect\u001b[0m\u001b[0;34m(\u001b[0m\u001b[0;34m)\u001b[0m\u001b[0;34m\u001b[0m\u001b[0m\n\u001b[0m\u001b[1;32m    845\u001b[0m \u001b[0;34m\u001b[0m\u001b[0m\n",
      "\u001b[0;32m/Users/navneetmkumar/anaconda/lib/python3.5/site-packages/requests/packages/urllib3/connection.py\u001b[0m in \u001b[0;36mconnect\u001b[0;34m(self)\u001b[0m\n\u001b[1;32m    283\u001b[0m         \u001b[0;31m# Add certificate verification\u001b[0m\u001b[0;34m\u001b[0m\u001b[0;34m\u001b[0m\u001b[0m\n\u001b[0;32m--> 284\u001b[0;31m         \u001b[0mconn\u001b[0m \u001b[0;34m=\u001b[0m \u001b[0mself\u001b[0m\u001b[0;34m.\u001b[0m\u001b[0m_new_conn\u001b[0m\u001b[0;34m(\u001b[0m\u001b[0;34m)\u001b[0m\u001b[0;34m\u001b[0m\u001b[0m\n\u001b[0m\u001b[1;32m    285\u001b[0m \u001b[0;34m\u001b[0m\u001b[0m\n",
      "\u001b[0;32m/Users/navneetmkumar/anaconda/lib/python3.5/site-packages/requests/packages/urllib3/connection.py\u001b[0m in \u001b[0;36m_new_conn\u001b[0;34m(self)\u001b[0m\n\u001b[1;32m    149\u001b[0m             raise NewConnectionError(\n\u001b[0;32m--> 150\u001b[0;31m                 self, \"Failed to establish a new connection: %s\" % e)\n\u001b[0m\u001b[1;32m    151\u001b[0m \u001b[0;34m\u001b[0m\u001b[0m\n",
      "\u001b[0;31mNewConnectionError\u001b[0m: <requests.packages.urllib3.connection.VerifiedHTTPSConnection object at 0x11a62fcc0>: Failed to establish a new connection: [Errno 60] Operation timed out",
      "\nDuring handling of the above exception, another exception occurred:\n",
      "\u001b[0;31mMaxRetryError\u001b[0m                             Traceback (most recent call last)",
      "\u001b[0;32m/Users/navneetmkumar/anaconda/lib/python3.5/site-packages/requests/adapters.py\u001b[0m in \u001b[0;36msend\u001b[0;34m(self, request, stream, timeout, verify, cert, proxies)\u001b[0m\n\u001b[1;32m    422\u001b[0m                     \u001b[0mretries\u001b[0m\u001b[0;34m=\u001b[0m\u001b[0mself\u001b[0m\u001b[0;34m.\u001b[0m\u001b[0mmax_retries\u001b[0m\u001b[0;34m,\u001b[0m\u001b[0;34m\u001b[0m\u001b[0m\n\u001b[0;32m--> 423\u001b[0;31m                     \u001b[0mtimeout\u001b[0m\u001b[0;34m=\u001b[0m\u001b[0mtimeout\u001b[0m\u001b[0;34m\u001b[0m\u001b[0m\n\u001b[0m\u001b[1;32m    424\u001b[0m                 )\n",
      "\u001b[0;32m/Users/navneetmkumar/anaconda/lib/python3.5/site-packages/requests/packages/urllib3/connectionpool.py\u001b[0m in \u001b[0;36murlopen\u001b[0;34m(self, method, url, body, headers, retries, redirect, assert_same_host, timeout, pool_timeout, release_conn, chunked, body_pos, **response_kw)\u001b[0m\n\u001b[1;32m    648\u001b[0m             retries = retries.increment(method, url, error=e, _pool=self,\n\u001b[0;32m--> 649\u001b[0;31m                                         _stacktrace=sys.exc_info()[2])\n\u001b[0m\u001b[1;32m    650\u001b[0m             \u001b[0mretries\u001b[0m\u001b[0;34m.\u001b[0m\u001b[0msleep\u001b[0m\u001b[0;34m(\u001b[0m\u001b[0;34m)\u001b[0m\u001b[0;34m\u001b[0m\u001b[0m\n",
      "\u001b[0;32m/Users/navneetmkumar/anaconda/lib/python3.5/site-packages/requests/packages/urllib3/util/retry.py\u001b[0m in \u001b[0;36mincrement\u001b[0;34m(self, method, url, response, error, _pool, _stacktrace)\u001b[0m\n\u001b[1;32m    375\u001b[0m         \u001b[0;32mif\u001b[0m \u001b[0mnew_retry\u001b[0m\u001b[0;34m.\u001b[0m\u001b[0mis_exhausted\u001b[0m\u001b[0;34m(\u001b[0m\u001b[0;34m)\u001b[0m\u001b[0;34m:\u001b[0m\u001b[0;34m\u001b[0m\u001b[0m\n\u001b[0;32m--> 376\u001b[0;31m             \u001b[0;32mraise\u001b[0m \u001b[0mMaxRetryError\u001b[0m\u001b[0;34m(\u001b[0m\u001b[0m_pool\u001b[0m\u001b[0;34m,\u001b[0m \u001b[0murl\u001b[0m\u001b[0;34m,\u001b[0m \u001b[0merror\u001b[0m \u001b[0;32mor\u001b[0m \u001b[0mResponseError\u001b[0m\u001b[0;34m(\u001b[0m\u001b[0mcause\u001b[0m\u001b[0;34m)\u001b[0m\u001b[0;34m)\u001b[0m\u001b[0;34m\u001b[0m\u001b[0m\n\u001b[0m\u001b[1;32m    377\u001b[0m \u001b[0;34m\u001b[0m\u001b[0m\n",
      "\u001b[0;31mMaxRetryError\u001b[0m: HTTPSConnectionPool(host='www.tripadvisor.com', port=443): Max retries exceeded with url: /TravelersChoice-Attractions (Caused by NewConnectionError('<requests.packages.urllib3.connection.VerifiedHTTPSConnection object at 0x11a62fcc0>: Failed to establish a new connection: [Errno 60] Operation timed out',))",
      "\nDuring handling of the above exception, another exception occurred:\n",
      "\u001b[0;31mConnectionError\u001b[0m                           Traceback (most recent call last)",
      "\u001b[0;32m<ipython-input-3-b25c17c56bcd>\u001b[0m in \u001b[0;36m<module>\u001b[0;34m()\u001b[0m\n\u001b[1;32m      2\u001b[0m \u001b[0;32mfrom\u001b[0m \u001b[0mbs4\u001b[0m \u001b[0;32mimport\u001b[0m \u001b[0mBeautifulSoup\u001b[0m\u001b[0;34m\u001b[0m\u001b[0m\n\u001b[1;32m      3\u001b[0m \u001b[0;31m# Attractions\u001b[0m\u001b[0;34m\u001b[0m\u001b[0;34m\u001b[0m\u001b[0m\n\u001b[0;32m----> 4\u001b[0;31m \u001b[0mresponse\u001b[0m \u001b[0;34m=\u001b[0m \u001b[0mrequests\u001b[0m\u001b[0;34m.\u001b[0m\u001b[0mget\u001b[0m\u001b[0;34m(\u001b[0m\u001b[0;34m\"https://www.tripadvisor.com/TravelersChoice-Attractions\"\u001b[0m\u001b[0;34m)\u001b[0m\u001b[0;34m\u001b[0m\u001b[0m\n\u001b[0m\u001b[1;32m      5\u001b[0m \u001b[0mcontent\u001b[0m \u001b[0;34m=\u001b[0m \u001b[0mresponse\u001b[0m\u001b[0;34m.\u001b[0m\u001b[0mcontent\u001b[0m\u001b[0;34m\u001b[0m\u001b[0m\n\u001b[1;32m      6\u001b[0m \u001b[0mparser\u001b[0m \u001b[0;34m=\u001b[0m \u001b[0mBeautifulSoup\u001b[0m\u001b[0;34m(\u001b[0m\u001b[0mcontent\u001b[0m\u001b[0;34m,\u001b[0m \u001b[0;34m'html.parser'\u001b[0m\u001b[0;34m)\u001b[0m\u001b[0;34m\u001b[0m\u001b[0m\n",
      "\u001b[0;32m/Users/navneetmkumar/anaconda/lib/python3.5/site-packages/requests/api.py\u001b[0m in \u001b[0;36mget\u001b[0;34m(url, params, **kwargs)\u001b[0m\n\u001b[1;32m     68\u001b[0m \u001b[0;34m\u001b[0m\u001b[0m\n\u001b[1;32m     69\u001b[0m     \u001b[0mkwargs\u001b[0m\u001b[0;34m.\u001b[0m\u001b[0msetdefault\u001b[0m\u001b[0;34m(\u001b[0m\u001b[0;34m'allow_redirects'\u001b[0m\u001b[0;34m,\u001b[0m \u001b[0;32mTrue\u001b[0m\u001b[0;34m)\u001b[0m\u001b[0;34m\u001b[0m\u001b[0m\n\u001b[0;32m---> 70\u001b[0;31m     \u001b[0;32mreturn\u001b[0m \u001b[0mrequest\u001b[0m\u001b[0;34m(\u001b[0m\u001b[0;34m'get'\u001b[0m\u001b[0;34m,\u001b[0m \u001b[0murl\u001b[0m\u001b[0;34m,\u001b[0m \u001b[0mparams\u001b[0m\u001b[0;34m=\u001b[0m\u001b[0mparams\u001b[0m\u001b[0;34m,\u001b[0m \u001b[0;34m**\u001b[0m\u001b[0mkwargs\u001b[0m\u001b[0;34m)\u001b[0m\u001b[0;34m\u001b[0m\u001b[0m\n\u001b[0m\u001b[1;32m     71\u001b[0m \u001b[0;34m\u001b[0m\u001b[0m\n\u001b[1;32m     72\u001b[0m \u001b[0;34m\u001b[0m\u001b[0m\n",
      "\u001b[0;32m/Users/navneetmkumar/anaconda/lib/python3.5/site-packages/requests/api.py\u001b[0m in \u001b[0;36mrequest\u001b[0;34m(method, url, **kwargs)\u001b[0m\n\u001b[1;32m     54\u001b[0m     \u001b[0;31m# cases, and look like a memory leak in others.\u001b[0m\u001b[0;34m\u001b[0m\u001b[0;34m\u001b[0m\u001b[0m\n\u001b[1;32m     55\u001b[0m     \u001b[0;32mwith\u001b[0m \u001b[0msessions\u001b[0m\u001b[0;34m.\u001b[0m\u001b[0mSession\u001b[0m\u001b[0;34m(\u001b[0m\u001b[0;34m)\u001b[0m \u001b[0;32mas\u001b[0m \u001b[0msession\u001b[0m\u001b[0;34m:\u001b[0m\u001b[0;34m\u001b[0m\u001b[0m\n\u001b[0;32m---> 56\u001b[0;31m         \u001b[0;32mreturn\u001b[0m \u001b[0msession\u001b[0m\u001b[0;34m.\u001b[0m\u001b[0mrequest\u001b[0m\u001b[0;34m(\u001b[0m\u001b[0mmethod\u001b[0m\u001b[0;34m=\u001b[0m\u001b[0mmethod\u001b[0m\u001b[0;34m,\u001b[0m \u001b[0murl\u001b[0m\u001b[0;34m=\u001b[0m\u001b[0murl\u001b[0m\u001b[0;34m,\u001b[0m \u001b[0;34m**\u001b[0m\u001b[0mkwargs\u001b[0m\u001b[0;34m)\u001b[0m\u001b[0;34m\u001b[0m\u001b[0m\n\u001b[0m\u001b[1;32m     57\u001b[0m \u001b[0;34m\u001b[0m\u001b[0m\n\u001b[1;32m     58\u001b[0m \u001b[0;34m\u001b[0m\u001b[0m\n",
      "\u001b[0;32m/Users/navneetmkumar/anaconda/lib/python3.5/site-packages/requests/sessions.py\u001b[0m in \u001b[0;36mrequest\u001b[0;34m(self, method, url, params, data, headers, cookies, files, auth, timeout, allow_redirects, proxies, hooks, stream, verify, cert, json)\u001b[0m\n\u001b[1;32m    486\u001b[0m         }\n\u001b[1;32m    487\u001b[0m         \u001b[0msend_kwargs\u001b[0m\u001b[0;34m.\u001b[0m\u001b[0mupdate\u001b[0m\u001b[0;34m(\u001b[0m\u001b[0msettings\u001b[0m\u001b[0;34m)\u001b[0m\u001b[0;34m\u001b[0m\u001b[0m\n\u001b[0;32m--> 488\u001b[0;31m         \u001b[0mresp\u001b[0m \u001b[0;34m=\u001b[0m \u001b[0mself\u001b[0m\u001b[0;34m.\u001b[0m\u001b[0msend\u001b[0m\u001b[0;34m(\u001b[0m\u001b[0mprep\u001b[0m\u001b[0;34m,\u001b[0m \u001b[0;34m**\u001b[0m\u001b[0msend_kwargs\u001b[0m\u001b[0;34m)\u001b[0m\u001b[0;34m\u001b[0m\u001b[0m\n\u001b[0m\u001b[1;32m    489\u001b[0m \u001b[0;34m\u001b[0m\u001b[0m\n\u001b[1;32m    490\u001b[0m         \u001b[0;32mreturn\u001b[0m \u001b[0mresp\u001b[0m\u001b[0;34m\u001b[0m\u001b[0m\n",
      "\u001b[0;32m/Users/navneetmkumar/anaconda/lib/python3.5/site-packages/requests/sessions.py\u001b[0m in \u001b[0;36msend\u001b[0;34m(self, request, **kwargs)\u001b[0m\n\u001b[1;32m    607\u001b[0m \u001b[0;34m\u001b[0m\u001b[0m\n\u001b[1;32m    608\u001b[0m         \u001b[0;31m# Send the request\u001b[0m\u001b[0;34m\u001b[0m\u001b[0;34m\u001b[0m\u001b[0m\n\u001b[0;32m--> 609\u001b[0;31m         \u001b[0mr\u001b[0m \u001b[0;34m=\u001b[0m \u001b[0madapter\u001b[0m\u001b[0;34m.\u001b[0m\u001b[0msend\u001b[0m\u001b[0;34m(\u001b[0m\u001b[0mrequest\u001b[0m\u001b[0;34m,\u001b[0m \u001b[0;34m**\u001b[0m\u001b[0mkwargs\u001b[0m\u001b[0;34m)\u001b[0m\u001b[0;34m\u001b[0m\u001b[0m\n\u001b[0m\u001b[1;32m    610\u001b[0m \u001b[0;34m\u001b[0m\u001b[0m\n\u001b[1;32m    611\u001b[0m         \u001b[0;31m# Total elapsed time of the request (approximately)\u001b[0m\u001b[0;34m\u001b[0m\u001b[0;34m\u001b[0m\u001b[0m\n",
      "\u001b[0;32m/Users/navneetmkumar/anaconda/lib/python3.5/site-packages/requests/adapters.py\u001b[0m in \u001b[0;36msend\u001b[0;34m(self, request, stream, timeout, verify, cert, proxies)\u001b[0m\n\u001b[1;32m    485\u001b[0m                 \u001b[0;32mraise\u001b[0m \u001b[0mProxyError\u001b[0m\u001b[0;34m(\u001b[0m\u001b[0me\u001b[0m\u001b[0;34m,\u001b[0m \u001b[0mrequest\u001b[0m\u001b[0;34m=\u001b[0m\u001b[0mrequest\u001b[0m\u001b[0;34m)\u001b[0m\u001b[0;34m\u001b[0m\u001b[0m\n\u001b[1;32m    486\u001b[0m \u001b[0;34m\u001b[0m\u001b[0m\n\u001b[0;32m--> 487\u001b[0;31m             \u001b[0;32mraise\u001b[0m \u001b[0mConnectionError\u001b[0m\u001b[0;34m(\u001b[0m\u001b[0me\u001b[0m\u001b[0;34m,\u001b[0m \u001b[0mrequest\u001b[0m\u001b[0;34m=\u001b[0m\u001b[0mrequest\u001b[0m\u001b[0;34m)\u001b[0m\u001b[0;34m\u001b[0m\u001b[0m\n\u001b[0m\u001b[1;32m    488\u001b[0m \u001b[0;34m\u001b[0m\u001b[0m\n\u001b[1;32m    489\u001b[0m         \u001b[0;32mexcept\u001b[0m \u001b[0mClosedPoolError\u001b[0m \u001b[0;32mas\u001b[0m \u001b[0me\u001b[0m\u001b[0;34m:\u001b[0m\u001b[0;34m\u001b[0m\u001b[0m\n",
      "\u001b[0;31mConnectionError\u001b[0m: HTTPSConnectionPool(host='www.tripadvisor.com', port=443): Max retries exceeded with url: /TravelersChoice-Attractions (Caused by NewConnectionError('<requests.packages.urllib3.connection.VerifiedHTTPSConnection object at 0x11a62fcc0>: Failed to establish a new connection: [Errno 60] Operation timed out',))"
     ]
    }
   ],
   "source": [
    "# Parse for data on TripAdvisor Webpage\n",
    "from bs4 import BeautifulSoup\n",
    "# Attractions\n",
    "response = requests.get(\"https://www.tripadvisor.com/TravelersChoice-Attractions\")\n",
    "content = response.content\n",
    "parser = BeautifulSoup(content, 'html.parser')\n",
    "main_names = parser.find_all(\"div\", class_=\"mainName extra\")\n",
    "reviews = parser.find_all(\"div\", class_=\"quot\")\n",
    "main_locations = parser.find_all(\"div\", class_=\"smaller\")\n",
    "names = []\n",
    "locations = []\n",
    "reviews_ = []\n",
    "i = 0\n",
    "for name in main_names:\n",
    "    a = name.a\n",
    "    names.append(a.text)\n",
    "for review in reviews:\n",
    "    if i == 25:\n",
    "        break\n",
    "    reviews_.append(review.text)\n",
    "    i +=1\n",
    "for location in main_locations:\n",
    "    a = location.a\n",
    "    locations.append(a.text)\n",
    "print(len(names))\n",
    "print(len(reviews_))\n",
    "print(len(locations))"
   ]
  },
  {
   "cell_type": "code",
   "execution_count": null,
   "metadata": {
    "collapsed": false
   },
   "outputs": [],
   "source": [
    "categories = []\n",
    "for i in range(25):\n",
    "    categories.append(\"AmusementPark\")"
   ]
  },
  {
   "cell_type": "code",
   "execution_count": null,
   "metadata": {
    "collapsed": false
   },
   "outputs": [],
   "source": [
    "attractions = [\n",
    "    ('names',names),\n",
    "    ('reviews',reviews_),\n",
    "    ('categories',categories),\n",
    "    ('locations', locations)\n",
    "]\n",
    "att_data = pd.DataFrame.from_items(attractions)\n",
    "print(att_data.head())"
   ]
  },
  {
   "cell_type": "code",
   "execution_count": null,
   "metadata": {
    "collapsed": false
   },
   "outputs": [],
   "source": [
    "# Landmarks\n",
    "response = requests.get(\"https://www.tripadvisor.com/TravelersChoice-Landmarks\")\n",
    "content = response.content\n",
    "parser = BeautifulSoup(content, 'html.parser')\n",
    "main_names = parser.find_all(\"div\", class_=\"mainName extra\")\n",
    "reviews = parser.find_all(\"div\", class_=\"quot\")\n",
    "main_locations = parser.find_all(\"div\", class_=\"smaller\")\n",
    "names = []\n",
    "locations = []\n",
    "reviews_ = []\n",
    "i = 0\n",
    "for name in main_names:\n",
    "    a = name.a\n",
    "    names.append(a.text)\n",
    "for review in reviews:\n",
    "    if i == 25:\n",
    "        break\n",
    "    reviews_.append(review.text)\n",
    "    i +=1\n",
    "for location in main_locations:\n",
    "    a = location.a\n",
    "    locations.append(a.text)\n",
    "print(len(names))\n",
    "print(len(reviews_))\n",
    "print(len(locations))"
   ]
  },
  {
   "cell_type": "code",
   "execution_count": null,
   "metadata": {
    "collapsed": false
   },
   "outputs": [],
   "source": [
    "categories = []\n",
    "for i in range(25):\n",
    "    categories.append(\"Landmarks\")\n",
    "landmarks = [\n",
    "    ('names',names),\n",
    "    ('reviews',reviews_),\n",
    "    ('categories',categories),\n",
    "    ('locations', locations)\n",
    "]\n",
    "lm_data = pd.DataFrame.from_items(landmarks)\n",
    "print(lm_data.head())"
   ]
  },
  {
   "cell_type": "code",
   "execution_count": null,
   "metadata": {
    "collapsed": false
   },
   "outputs": [],
   "source": [
    "# Beaches\n",
    "response = requests.get(\"https://www.tripadvisor.com/TravelersChoice-Beaches\")\n",
    "content = response.content\n",
    "parser = BeautifulSoup(content, 'html.parser')\n",
    "main_names = parser.find_all(\"div\", class_=\"mainName extra\")\n",
    "reviews = parser.find_all(\"div\", class_=\"quot\")\n",
    "main_locations = parser.find_all(\"div\", class_=\"smaller\")\n",
    "names = []\n",
    "locations = []\n",
    "reviews_ = []\n",
    "i = 0\n",
    "for name in main_names:\n",
    "    a = name.a\n",
    "    names.append(a.text)\n",
    "for review in reviews:\n",
    "    if i == 25:\n",
    "        break\n",
    "    reviews_.append(review.text)\n",
    "    i +=1\n",
    "for location in main_locations:\n",
    "    a = location.a\n",
    "    locations.append(a.text)\n",
    "print(len(names))\n",
    "print(len(reviews_))\n",
    "print(len(locations))\n",
    "\n",
    "categories = []\n",
    "for i in range(25):\n",
    "    categories.append(\"Beaches\")\n",
    "beaches = [\n",
    "    ('names',names),\n",
    "    ('reviews',reviews_),\n",
    "    ('categories',categories),\n",
    "    ('locations', locations)\n",
    "]\n",
    "be_data = pd.DataFrame.from_items(beaches)\n",
    "print(be_data.head())"
   ]
  },
  {
   "cell_type": "code",
   "execution_count": null,
   "metadata": {
    "collapsed": false
   },
   "outputs": [],
   "source": [
    "# Resorts\n",
    "response = requests.get(\"https://www.tripadvisor.com/TravelersChoice-AllInclusive\")\n",
    "content = response.content\n",
    "parser = BeautifulSoup(content, 'html.parser')\n",
    "main_names = parser.find_all(\"div\", class_=\"mainName extra\")\n",
    "reviews = parser.find_all(\"div\", class_=\"quot\")\n",
    "main_locations = parser.find_all(\"div\", class_=\"smaller\")\n",
    "names = []\n",
    "locations = []\n",
    "reviews_ = []\n",
    "i = 0\n",
    "for name in main_names:\n",
    "    a = name.a\n",
    "    names.append(a.text)\n",
    "for review in reviews:\n",
    "    if i == 25:\n",
    "        break\n",
    "    reviews_.append(review.text)\n",
    "    i +=1\n",
    "for location in main_locations:\n",
    "    a = location.a\n",
    "    locations.append(a.text)\n",
    "print(len(names))\n",
    "print(len(reviews_))\n",
    "print(len(locations))\n",
    "\n",
    "categories = []\n",
    "for i in range(25):\n",
    "    categories.append(\"Resorts\")\n",
    "resorts = [\n",
    "    ('names',names),\n",
    "    ('reviews',reviews_),\n",
    "    ('categories',categories),\n",
    "    ('locations', locations)\n",
    "]\n",
    "re_data = pd.DataFrame.from_items(resorts)\n",
    "print(re_data.head())"
   ]
  },
  {
   "cell_type": "code",
   "execution_count": null,
   "metadata": {
    "collapsed": false
   },
   "outputs": [],
   "source": [
    "# Islands\n",
    "response = requests.get(\"https://www.tripadvisor.com/TravelersChoice-Islands\")\n",
    "content = response.content\n",
    "parser = BeautifulSoup(content, 'html.parser')\n",
    "main_names = parser.find_all(\"div\", class_=\"mainName\")\n",
    "reviews = parser.find_all(\"div\", class_=\"descr_lb\")\n",
    "main_locations = parser.find_all(\"div\", class_=\"smaller\")\n",
    "names = []\n",
    "reviews_ = []\n",
    "i = 0\n",
    "for name in main_names:\n",
    "    a = name.a\n",
    "    names.append(a.text)\n",
    "for review in reviews:\n",
    "    if i == 25:\n",
    "        break\n",
    "    reviews_.append(review.text)\n",
    "    i +=1\n",
    "print(len(names))\n",
    "print(len(reviews_))\n",
    "\n",
    "categories = []\n",
    "for i in range(10):\n",
    "    categories.append(\"Islands\")\n",
    "islands = [\n",
    "    ('names',names),\n",
    "    ('reviews',reviews_),\n",
    "    ('categories',categories),\n",
    "    ('locations', names)\n",
    "]\n",
    "is_data = pd.DataFrame.from_items(islands)\n",
    "print(is_data.head())"
   ]
  },
  {
   "cell_type": "code",
   "execution_count": null,
   "metadata": {
    "collapsed": false
   },
   "outputs": [],
   "source": [
    "# Resorts\n",
    "response = requests.get(\"https://www.tripadvisor.com/TravelersChoice-Museums\")\n",
    "content = response.content\n",
    "parser = BeautifulSoup(content, 'html.parser')\n",
    "main_names = parser.find_all(\"div\", class_=\"mainName extra\")\n",
    "reviews = parser.find_all(\"div\", class_=\"quot\")\n",
    "main_locations = parser.find_all(\"div\", class_=\"smaller\")\n",
    "names = []\n",
    "locations = []\n",
    "reviews_ = []\n",
    "i = 0\n",
    "for name in main_names:\n",
    "    a = name.a\n",
    "    names.append(a.text)\n",
    "for review in reviews:\n",
    "    if i == 25:\n",
    "        break\n",
    "    reviews_.append(review.text)\n",
    "    i +=1\n",
    "for location in main_locations:\n",
    "    a = location.a\n",
    "    locations.append(a.text)\n",
    "print(len(names))\n",
    "print(len(reviews_))\n",
    "print(len(locations))\n",
    "\n",
    "categories = []\n",
    "for i in range(25):\n",
    "    categories.append(\"Museums\")\n",
    "museums = [\n",
    "    ('names',names),\n",
    "    ('reviews',reviews_),\n",
    "    ('categories',categories),\n",
    "    ('locations', locations)\n",
    "]\n",
    "mu_data = pd.DataFrame.from_items(museums)\n",
    "print(mu_data.head())"
   ]
  },
  {
   "cell_type": "code",
   "execution_count": null,
   "metadata": {
    "collapsed": false
   },
   "outputs": [],
   "source": [
    "mu_data['reviews'][0]"
   ]
  },
  {
   "cell_type": "code",
   "execution_count": null,
   "metadata": {
    "collapsed": false
   },
   "outputs": [],
   "source": [
    "# Concatenate the dataframes\n",
    "frames = [mu_data, is_data, att_data, lm_data, be_data]\n",
    "tripad_data = pd.concat(frames)\n",
    "print(tripad_data.shape[0])"
   ]
  },
  {
   "cell_type": "code",
   "execution_count": null,
   "metadata": {
    "collapsed": false
   },
   "outputs": [],
   "source": [
    "# Attractions of Asia\n",
    "response = requests.get(\"https://www.tripadvisor.com/TravelersChoice-Restaurants-cFineDining-g8\")\n",
    "content = response.content\n",
    "parser = BeautifulSoup(content, 'html.parser')\n",
    "main_names = parser.find_all(\"div\", class_=\"mainName extra\")\n",
    "reviews = parser.find_all(\"div\", class_=\"quot\")\n",
    "main_locations = parser.find_all(\"div\", class_=\"smaller\")\n",
    "names = []\n",
    "locations = []\n",
    "reviews_ = []\n",
    "i = 0\n",
    "for name in main_names:\n",
    "    a = name.a\n",
    "    names.append(a.text)\n",
    "for review in reviews:\n",
    "    if i == 10:\n",
    "        break\n",
    "    reviews_.append(review.text)\n",
    "    i +=1\n",
    "for location in main_locations:\n",
    "    a = location.a\n",
    "    locations.append(a.text)\n",
    "\n",
    "categories = []\n",
    "for i in range(10):\n",
    "    categories.append(\"Restaurants\")\n",
    "attractions = [\n",
    "    ('names',names),\n",
    "    ('reviews',reviews_),\n",
    "    ('categories',categories),\n",
    "    ('locations', locations)\n",
    "]\n",
    "att_data = pd.DataFrame.from_items(attractions)\n",
    "tripad_data =  pd.concat([tripad_data,att_data])"
   ]
  },
  {
   "cell_type": "code",
   "execution_count": null,
   "metadata": {
    "collapsed": false
   },
   "outputs": [],
   "source": [
    "print(tripad_data.shape[0])"
   ]
  },
  {
   "cell_type": "code",
   "execution_count": null,
   "metadata": {
    "collapsed": false
   },
   "outputs": [],
   "source": [
    "print(tripad_data.head())"
   ]
  },
  {
   "cell_type": "code",
   "execution_count": null,
   "metadata": {
    "collapsed": false
   },
   "outputs": [],
   "source": [
    "import threading\n",
    "import time\n",
    "# Collect data and add to either positive dataset or negative dataset\n",
    "\n",
    "lock =  threading.Lock()\n",
    "\n",
    "def return_review(url, reviews):\n",
    "    lock.acquire()\n",
    "    reviews = []\n",
    "    try:\n",
    "        response = requests.get(url)\n",
    "        json_data = response.json()\n",
    "        for j in json_data:\n",
    "            if j['language'] == 'en':\n",
    "                r  = {'review': j['text'],\n",
    "                     'polarity': j['polarity']}\n",
    "                reviews.append(r)\n",
    "    except:\n",
    "        time.sleep(5) \n",
    "    lock.release()\n",
    "    return reviews\n",
    "\n",
    "\n",
    "batch_size = 100\n",
    "start = 0\n",
    "end = batch_size\n",
    "main_reviews = []\n",
    "threads = []\n",
    "for i in range(int(data.shape[0]/batch_size)):\n",
    "    reviews = data['reviews'][start:end]\n",
    "    print(len(reviews))\n",
    "    for r in reviews:\n",
    "        thread = threading.Thread(target=return_review, args=(r,main_reviews))\n",
    "        thread.start()\n",
    "        threads.append(thread)\n",
    "    for thread in threads:\n",
    "        thread.join()\n",
    "print(len(main_reviews))"
   ]
  },
  {
   "cell_type": "code",
   "execution_count": null,
   "metadata": {
    "collapsed": true
   },
   "outputs": [],
   "source": []
  }
 ],
 "metadata": {
  "kernelspec": {
   "display_name": "Python 3",
   "language": "python",
   "name": "python3"
  },
  "language_info": {
   "codemirror_mode": {
    "name": "ipython",
    "version": 3
   },
   "file_extension": ".py",
   "mimetype": "text/x-python",
   "name": "python",
   "nbconvert_exporter": "python",
   "pygments_lexer": "ipython3",
   "version": "3.5.3"
  }
 },
 "nbformat": 4,
 "nbformat_minor": 2
}
