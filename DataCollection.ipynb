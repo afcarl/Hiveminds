{
 "cells": [
  {
   "cell_type": "code",
   "execution_count": 1,
   "metadata": {
    "collapsed": true
   },
   "outputs": [],
   "source": [
    "# Data Collection Script\n",
    "import requests\n",
    "import json\n",
    "import numpy as np\n",
    "import pandas as pd"
   ]
  },
  {
   "cell_type": "code",
   "execution_count": 2,
   "metadata": {
    "collapsed": true
   },
   "outputs": [],
   "source": [
    "#  Declaring the variables\n",
    "api_key = \"2ba396b683c14b46a152eb84639c6d3a\"\n",
    "parameters = {\"api-key\": api_key,\n",
    "              'q': \"36&hours\",\n",
    "             \"fq\": \"news_desk:(\\\"Travel\\\")\"}\n",
    "base_url = \"https://api.nytimes.com/svc/search/v2/articlesearch.json\""
   ]
  },
  {
   "cell_type": "code",
   "execution_count": 3,
   "metadata": {
    "collapsed": false
   },
   "outputs": [
    {
     "name": "stdout",
     "output_type": "stream",
     "text": [
      "Tokyo (Japan)\n",
      "This sprawling megalopolis can be dizzying, but a selection of neighborhoods offers just the right balance of art, nightlife and cuisine....\n",
      "https://www.nytimes.com/interactive/2017/04/27/travel/what-to-do-36-hours-in-tokyo-japan.html\n"
     ]
    }
   ],
   "source": [
    "response = requests.get(base_url, params=parameters)\n",
    "json_data = response.json()\n",
    "print(json_data['response'][\"docs\"][0][\"keywords\"][0][\"value\"])\n",
    "print(json_data[\"response\"][\"docs\"][0][\"snippet\"])\n",
    "print(json_data[\"response\"][\"docs\"][0][\"web_url\"])"
   ]
  },
  {
   "cell_type": "code",
   "execution_count": null,
   "metadata": {
    "collapsed": false
   },
   "outputs": [
    {
     "name": "stdout",
     "output_type": "stream",
     "text": [
      "25676\n",
      "19774\n"
     ]
    }
   ],
   "source": [
    "# Working on the csv datasets\n",
    "am_data = pd.read_csv(\"amsterdam-attraction.csv\")\n",
    "paris_data = pd.read_csv(\"paris-attraction.csv\")\n",
    "tuscany_data = pd.read_csv(\"tuscany-attraction.csv\")\n",
    "\n",
    "# Concatenate the frames\n",
    "frames = [am_data, paris_data, tuscany_data]\n",
    "data = pd.concat(frames)\n",
    "print(data.shape[0])\n",
    "\n",
    "# Removing unwanted columns\n",
    "columns = ['location', 'name', 'subCategory','polarity', 'reviews']\n",
    "data = data[columns]\n",
    "data = data.reset_index()\n",
    "data = data[pd.notnull(data['reviews'])]\n",
    "\n",
    "print(data.shape[0])"
   ]
  },
  {
   "cell_type": "code",
   "execution_count": null,
   "metadata": {
    "collapsed": false
   },
   "outputs": [
    {
     "name": "stderr",
     "output_type": "stream",
     "text": [
      "/Users/navneetmkumar/anaconda/lib/python3.5/site-packages/ipykernel/__main__.py:18: SettingWithCopyWarning: \n",
      "A value is trying to be set on a copy of a slice from a DataFrame\n",
      "\n",
      "See the caveats in the documentation: http://pandas.pydata.org/pandas-docs/stable/indexing.html#indexing-view-versus-copy\n"
     ]
    }
   ],
   "source": [
    "import time\n",
    "def get_reviews(review):\n",
    "    reviews = []\n",
    "    try:\n",
    "        response = requests.get(review)\n",
    "        json_data = response.json()\n",
    "        for j in json_data:\n",
    "            if j['language'] == 'en':\n",
    "                reviews.append(j['text'])\n",
    "    except:\n",
    "        time.sleep(2)\n",
    "    return reviews\n",
    "\n",
    "batch_size = 20\n",
    "start = 0\n",
    "end = 10\n",
    "for epoch in range(int(data.shape[0]/batch_size)):\n",
    "    data['reviews'][start:end] = data['reviews'][start:end].apply(get_reviews)\n",
    "    start += batch_size\n",
    "    end += batch_size\n",
    "print(data.head(30))"
   ]
  },
  {
   "cell_type": "code",
   "execution_count": null,
   "metadata": {
    "collapsed": false
   },
   "outputs": [],
   "source": []
  },
  {
   "cell_type": "code",
   "execution_count": null,
   "metadata": {
    "collapsed": true
   },
   "outputs": [],
   "source": []
  }
 ],
 "metadata": {
  "kernelspec": {
   "display_name": "Python 3",
   "language": "python",
   "name": "python3"
  },
  "language_info": {
   "codemirror_mode": {
    "name": "ipython",
    "version": 3
   },
   "file_extension": ".py",
   "mimetype": "text/x-python",
   "name": "python",
   "nbconvert_exporter": "python",
   "pygments_lexer": "ipython3",
   "version": "3.5.3"
  }
 },
 "nbformat": 4,
 "nbformat_minor": 2
}
